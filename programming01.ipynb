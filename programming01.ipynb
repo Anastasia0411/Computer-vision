{
 "cells": [
  {
   "cell_type": "markdown",
   "metadata": {
    "colab_type": "text",
    "id": "N_uDcyYjv03O"
   },
   "source": [
    "## Лаборатоная работа"
   ]
  },
  {
   "cell_type": "markdown",
   "metadata": {
    "colab_type": "text",
    "id": "u0sLtHEUv03U"
   },
   "source": [
    "### Введение в Keras"
   ]
  },
  {
   "cell_type": "markdown",
   "metadata": {
    "colab_type": "text",
    "id": "UW3hurNUv03Z"
   },
   "source": [
    "Цели лабораторной работы: \n",
    "- разобраться с интерфейсом слоёв, участвующих в построении нейронной сети\n",
    "- научиться обучать нейронные сети"
   ]
  },
  {
   "cell_type": "code",
   "execution_count": 1,
   "metadata": {
    "colab": {
     "base_uri": "https://localhost:8080/",
     "height": 114
    },
    "colab_type": "code",
    "id": "sVNNVQMrv03c",
    "outputId": "6bd75d13-ced9-4bdd-a130-088828b225cd"
   },
   "outputs": [
    {
     "name": "stderr",
     "output_type": "stream",
     "text": [
      "Using TensorFlow backend.\n"
     ]
    },
    {
     "data": {
      "text/html": [
       "<p style=\"color: red;\">\n",
       "The default version of TensorFlow in Colab will soon switch to TensorFlow 2.x.<br>\n",
       "We recommend you <a href=\"https://www.tensorflow.org/guide/migrate\" target=\"_blank\">upgrade</a> now \n",
       "or ensure your notebook will continue to use TensorFlow 1.x via the <code>%tensorflow_version 1.x</code> magic:\n",
       "<a href=\"https://colab.research.google.com/notebooks/tensorflow_version.ipynb\" target=\"_blank\">more info</a>.</p>\n"
      ],
      "text/plain": [
       "<IPython.core.display.HTML object>"
      ]
     },
     "metadata": {
      "tags": []
     },
     "output_type": "display_data"
    },
    {
     "name": "stdout",
     "output_type": "stream",
     "text": [
      "2.3.1\n",
      "1.15.0\n"
     ]
    }
   ],
   "source": [
    "import numpy as np\n",
    "np.random.seed(123)  # for reproducibility\n",
    " \n",
    "from keras.models import Sequential, Model\n",
    "from keras.layers import Dense, Dropout, Activation, Flatten, Input, BatchNormalization\n",
    "from keras.layers import Convolution2D, Conv2D, MaxPooling2D, MaxPooling1D\n",
    "from keras.utils import np_utils\n",
    "from keras.datasets import mnist\n",
    "from keras.callbacks import EarlyStopping, ReduceLROnPlateau\n",
    "from keras.optimizers import SGD, RMSprop, Adagrad, Adadelta, Adam\n",
    " \n",
    "import matplotlib.pyplot as plt\n",
    "import tensorflow as tf\n",
    "import keras\n",
    "\n",
    "print(keras.__version__)\n",
    "print(tf.__version__)"
   ]
  },
  {
   "cell_type": "markdown",
   "metadata": {
    "colab_type": "text",
    "id": "hiBTuAzOv03k"
   },
   "source": [
    "#### Подготовка данных"
   ]
  },
  {
   "cell_type": "code",
   "execution_count": 2,
   "metadata": {
    "colab": {
     "base_uri": "https://localhost:8080/",
     "height": 367
    },
    "colab_type": "code",
    "id": "CnzR97WQv03l",
    "outputId": "3bbfb5ed-fc15-47ca-a4e9-47b032b98b28"
   },
   "outputs": [
    {
     "name": "stdout",
     "output_type": "stream",
     "text": [
      "Downloading data from https://s3.amazonaws.com/img-datasets/mnist.npz\n",
      "11493376/11490434 [==============================] - 1s 0us/step\n",
      "(60000, 28, 28) (60000,) (10000, 28, 28) (10000,)\n"
     ]
    },
    {
     "data": {
      "image/png": "[encoded data removed]",
      "text/plain": [
       "<Figure size 432x288 with 1 Axes>"
      ]
     },
     "metadata": {
      "tags": []
     },
     "output_type": "display_data"
    },
    {
     "name": "stdout",
     "output_type": "stream",
     "text": [
      "1.0 0.0 float32\n",
      "[0. 1. 0. 0. 0. 0. 0. 0. 0. 0.]\n",
      "1\n"
     ]
    }
   ],
   "source": [
    "(X_train, y_train), (X_test, y_test) = mnist.load_data()\n",
    "print(X_train.shape, y_train.shape, X_test.shape, y_test.shape)\n",
    "\n",
    "X_train = X_train.reshape(X_train.shape[0], 1, 28, 28)\n",
    "X_test = X_test.reshape(X_test.shape[0], 1, 28, 28)\n",
    "X_train = X_train.astype('float32')\n",
    "X_test = X_test.astype('float32')\n",
    "X_train /= 255\n",
    "X_test /= 255\n",
    " \n",
    "\n",
    "Y_train = np_utils.to_categorical(y_train, 10)\n",
    "Y_test = np_utils.to_categorical(y_test, 10)\n",
    "\n",
    "index = 1238\n",
    "plt.imshow(X_train[index,0, :,:])\n",
    "plt.show()\n",
    "\n",
    "print(np.max(X_train[index,0, :,:]), np.min(X_train[index,0, :,:]), np.dtype(np.max(X_train[index,0, :,:])))\n",
    "print(Y_train[index])\n",
    "print(np.argmax(Y_train[index]))"
   ]
  },
  {
   "cell_type": "markdown",
   "metadata": {
    "colab_type": "text",
    "id": "pv1FTy95v03s"
   },
   "source": [
    "#### 1. (1 балл) Обучите простейшую однослойную нейронную сеть. Какой максимальный результат на тесте вам удалось достичь? Параметры обучения можно менять"
   ]
  },
  {
   "cell_type": "markdown",
   "metadata": {
    "colab_type": "text",
    "id": "av3TU-a-v03t"
   },
   "source": [
    "[0.27712910251319406, 0.92330002784729]"
   ]
  },
  {
   "cell_type": "code",
   "execution_count": 0,
   "metadata": {
    "colab": {},
    "colab_type": "code",
    "id": "gIOibCEpv03u",
    "outputId": "6ff22964-b071-4747-fd93-7bce8170b1df",
    "scrolled": true
   },
   "outputs": [
    {
     "name": "stderr",
     "output_type": "stream",
     "text": [
      "/anaconda3/lib/python3.7/site-packages/ipykernel_launcher.py:11: UserWarning: The `nb_epoch` argument in `fit` has been renamed `epochs`.\n",
      "  # This is added back by InteractiveShellApp.init_path()\n"
     ]
    },
    {
     "name": "stdout",
     "output_type": "stream",
     "text": [
      "Train on 39000 samples, validate on 21000 samples\n",
      "Epoch 1/10\n",
      "39000/39000 [==============================] - 15s 388us/step - loss: 0.4840 - accuracy: 0.8704 - val_loss: 0.3586 - val_accuracy: 0.9007\n",
      "Epoch 2/10\n",
      "39000/39000 [==============================] - 17s 436us/step - loss: 0.3389 - accuracy: 0.9055 - val_loss: 0.3245 - val_accuracy: 0.9094\n",
      "Epoch 3/10\n",
      "39000/39000 [==============================] - 17s 430us/step - loss: 0.3145 - accuracy: 0.9109 - val_loss: 0.3155 - val_accuracy: 0.9121\n",
      "Epoch 4/10\n",
      "39000/39000 [==============================] - 16s 410us/step - loss: 0.3017 - accuracy: 0.9148 - val_loss: 0.3057 - val_accuracy: 0.9144\n",
      "Epoch 5/10\n",
      "39000/39000 [==============================] - 16s 411us/step - loss: 0.2933 - accuracy: 0.9170 - val_loss: 0.3038 - val_accuracy: 0.9143\n",
      "Epoch 6/10\n",
      "39000/39000 [==============================] - 16s 410us/step - loss: 0.2871 - accuracy: 0.9199 - val_loss: 0.3007 - val_accuracy: 0.9158\n",
      "Epoch 7/10\n",
      "39000/39000 [==============================] - 16s 406us/step - loss: 0.2827 - accuracy: 0.9204 - val_loss: 0.2963 - val_accuracy: 0.9164\n",
      "Epoch 8/10\n",
      "39000/39000 [==============================] - 16s 404us/step - loss: 0.2787 - accuracy: 0.9228 - val_loss: 0.2933 - val_accuracy: 0.9174\n",
      "Epoch 9/10\n",
      "39000/39000 [==============================] - 16s 401us/step - loss: 0.2753 - accuracy: 0.9235 - val_loss: 0.2923 - val_accuracy: 0.9182\n",
      "Epoch 10/10\n",
      "39000/39000 [==============================] - 16s 404us/step - loss: 0.2725 - accuracy: 0.9234 - val_loss: 0.2927 - val_accuracy: 0.9187\n",
      "[0.27712910251319406, 0.92330002784729]\n"
     ]
    }
   ],
   "source": [
    "input_image = Input(shape=(1, 28, 28))\n",
    "flatten = Flatten()(input_image)\n",
    "dense2 = Dense(10, activation='softmax')(flatten)\n",
    "model = Model(inputs=input_image, outputs=dense2)\n",
    "\n",
    "model.compile(loss='categorical_crossentropy', optimizer='sgd', metrics=['accuracy'])\n",
    "es = EarlyStopping(monitor='val_loss', mode='auto', restore_best_weights=True, patience=5)\n",
    "rlr = ReduceLROnPlateau(monitor='val_loss', factor=0.2, patience=5, min_lr=0.001)\n",
    "model.fit(X_train, Y_train, validation_split=0.35, callbacks=[es, rlr], batch_size=4, nb_epoch=10, verbose=1)\n",
    "score = model.evaluate(X_test, Y_test, verbose=0)\n",
    "print(score)"
   ]
  },
  {
   "cell_type": "markdown",
   "metadata": {
    "colab_type": "text",
    "id": "sQbl74CEv030"
   },
   "source": [
    "#### 2. (2 балла) Обучите двуслойную полносвязную сеть. Какой максимальный результат на тесте вам удалось достичь?"
   ]
  },
  {
   "cell_type": "markdown",
   "metadata": {
    "colab_type": "text",
    "id": "A8hMy7ZOv031"
   },
   "source": [
    "[0.06617859071135754, 0.9812999963760376]"
   ]
  },
  {
   "cell_type": "code",
   "execution_count": 0,
   "metadata": {
    "colab": {},
    "colab_type": "code",
    "id": "-r4ek6hFv032",
    "outputId": "0e8a8fba-3ebf-4e52-c7c3-56c1d8ba60ad",
    "scrolled": true
   },
   "outputs": [
    {
     "name": "stdout",
     "output_type": "stream",
     "text": [
      "Train on 39000 samples, validate on 21000 samples\n",
      "Epoch 1/25\n",
      "39000/39000 [==============================] - 78s 2ms/step - loss: 0.3446 - accuracy: 0.9058 - val_loss: 0.2218 - val_accuracy: 0.9355\n",
      "Epoch 2/25\n",
      "39000/39000 [==============================] - 76s 2ms/step - loss: 0.1743 - accuracy: 0.9515 - val_loss: 0.1632 - val_accuracy: 0.9516\n",
      "Epoch 3/25\n",
      "39000/39000 [==============================] - 74s 2ms/step - loss: 0.1250 - accuracy: 0.9643 - val_loss: 0.1347 - val_accuracy: 0.9611\n",
      "Epoch 4/25\n",
      "39000/39000 [==============================] - 76s 2ms/step - loss: 0.0962 - accuracy: 0.9734 - val_loss: 0.1152 - val_accuracy: 0.9663\n",
      "Epoch 5/25\n",
      "39000/39000 [==============================] - 80s 2ms/step - loss: 0.0775 - accuracy: 0.9787 - val_loss: 0.1143 - val_accuracy: 0.9661\n",
      "Epoch 6/25\n",
      "39000/39000 [==============================] - 94s 2ms/step - loss: 0.0634 - accuracy: 0.9835 - val_loss: 0.0996 - val_accuracy: 0.9701\n",
      "Epoch 7/25\n",
      "39000/39000 [==============================] - 87s 2ms/step - loss: 0.0524 - accuracy: 0.9867 - val_loss: 0.0963 - val_accuracy: 0.9711\n",
      "Epoch 8/25\n",
      "39000/39000 [==============================] - 76s 2ms/step - loss: 0.0440 - accuracy: 0.9897 - val_loss: 0.0932 - val_accuracy: 0.9716\n",
      "Epoch 9/25\n",
      "39000/39000 [==============================] - 75s 2ms/step - loss: 0.0377 - accuracy: 0.9908 - val_loss: 0.0900 - val_accuracy: 0.9731\n",
      "Epoch 10/25\n",
      "39000/39000 [==============================] - 81s 2ms/step - loss: 0.0320 - accuracy: 0.9929 - val_loss: 0.0896 - val_accuracy: 0.9730\n",
      "Epoch 11/25\n",
      "39000/39000 [==============================] - 77s 2ms/step - loss: 0.0274 - accuracy: 0.9946 - val_loss: 0.0865 - val_accuracy: 0.9744\n",
      "Epoch 12/25\n",
      "39000/39000 [==============================] - 76s 2ms/step - loss: 0.0239 - accuracy: 0.9952 - val_loss: 0.0844 - val_accuracy: 0.9747\n",
      "Epoch 13/25\n",
      "39000/39000 [==============================] - 73s 2ms/step - loss: 0.0205 - accuracy: 0.9967 - val_loss: 0.0867 - val_accuracy: 0.9739\n",
      "Epoch 14/25\n",
      "39000/39000 [==============================] - 74s 2ms/step - loss: 0.0180 - accuracy: 0.9971 - val_loss: 0.0839 - val_accuracy: 0.9746\n",
      "Epoch 15/25\n",
      "39000/39000 [==============================] - 75s 2ms/step - loss: 0.0154 - accuracy: 0.9981 - val_loss: 0.0863 - val_accuracy: 0.9746\n",
      "Epoch 16/25\n",
      "39000/39000 [==============================] - 74s 2ms/step - loss: 0.0139 - accuracy: 0.9982 - val_loss: 0.0836 - val_accuracy: 0.9755\n",
      "Epoch 17/25\n",
      "39000/39000 [==============================] - 76s 2ms/step - loss: 0.0122 - accuracy: 0.9989 - val_loss: 0.0820 - val_accuracy: 0.9765\n",
      "Epoch 18/25\n",
      "39000/39000 [==============================] - 75s 2ms/step - loss: 0.0109 - accuracy: 0.9991 - val_loss: 0.0817 - val_accuracy: 0.9766\n",
      "Epoch 19/25\n",
      "39000/39000 [==============================] - 80s 2ms/step - loss: 0.0098 - accuracy: 0.9993 - val_loss: 0.0829 - val_accuracy: 0.9761\n",
      "Epoch 20/25\n",
      "39000/39000 [==============================] - 77s 2ms/step - loss: 0.0089 - accuracy: 0.9995 - val_loss: 0.0827 - val_accuracy: 0.9760\n",
      "Epoch 21/25\n",
      "39000/39000 [==============================] - 76s 2ms/step - loss: 0.0080 - accuracy: 0.9996 - val_loss: 0.0825 - val_accuracy: 0.9761\n",
      "Epoch 22/25\n",
      "39000/39000 [==============================] - 75s 2ms/step - loss: 0.0072 - accuracy: 0.9998 - val_loss: 0.0844 - val_accuracy: 0.9757\n",
      "Epoch 23/25\n",
      "39000/39000 [==============================] - 76s 2ms/step - loss: 0.0067 - accuracy: 0.9997 - val_loss: 0.0830 - val_accuracy: 0.9762\n",
      "[0.06617859071135754, 0.9812999963760376]\n"
     ]
    }
   ],
   "source": [
    "input_image = Input(shape=(1, 28, 28))\n",
    "flatten = Flatten()(input_image)\n",
    "dense1 = Dense(800, activation='relu')(flatten)\n",
    "dense2 = Dense(10, activation='softmax')(dense1)\n",
    "model = Model(inputs=input_image, outputs=dense2)\n",
    "\n",
    "model.compile(loss='categorical_crossentropy', optimizer='sgd', metrics=['accuracy'])\n",
    "es = EarlyStopping(monitor='val_loss', mode='auto', restore_best_weights=True, patience=5)\n",
    "rlr = ReduceLROnPlateau(monitor='val_loss', factor=0.2, patience=7, min_lr=0.001)\n",
    "model.fit(X_train, Y_train, validation_split=0.35, callbacks=[es, rlr], batch_size=4, epochs=25, verbose=1)\n",
    "score = model.evaluate(X_test, Y_test, verbose=0)\n",
    "print(score)"
   ]
  },
  {
   "cell_type": "markdown",
   "metadata": {
    "colab_type": "text",
    "id": "2MjXKYG-v038"
   },
   "source": [
    "#### 3. (2 балла) Обучите трёхслойную полносвязную сеть. Какой максимальный результат на тесте вам удалось достичь?"
   ]
  },
  {
   "cell_type": "markdown",
   "metadata": {
    "colab_type": "text",
    "id": "fQx2Yvqyv039"
   },
   "source": [
    "[0.0625563113745884, 0.9800999760627747]"
   ]
  },
  {
   "cell_type": "code",
   "execution_count": 0,
   "metadata": {
    "colab": {},
    "colab_type": "code",
    "id": "YxMFuCCEv03-",
    "outputId": "5ae95756-91c2-48d9-ca72-13f58a6d33e2",
    "scrolled": true
   },
   "outputs": [
    {
     "name": "stdout",
     "output_type": "stream",
     "text": [
      "Train on 39000 samples, validate on 21000 samples\n",
      "Epoch 1/40\n",
      "39000/39000 [==============================] - 326s 8ms/step - loss: 0.2955 - accuracy: 0.9153 - val_loss: 0.1620 - val_accuracy: 0.9527\n",
      "Epoch 2/40\n",
      "39000/39000 [==============================] - 313s 8ms/step - loss: 0.1213 - accuracy: 0.9645 - val_loss: 0.1313 - val_accuracy: 0.9600\n",
      "Epoch 3/40\n",
      "39000/39000 [==============================] - 322s 8ms/step - loss: 0.0767 - accuracy: 0.9779 - val_loss: 0.1081 - val_accuracy: 0.9662\n",
      "Epoch 4/40\n",
      "39000/39000 [==============================] - 329s 8ms/step - loss: 0.0524 - accuracy: 0.9849 - val_loss: 0.0902 - val_accuracy: 0.9724\n",
      "Epoch 5/40\n",
      "39000/39000 [==============================] - 329s 8ms/step - loss: 0.0366 - accuracy: 0.9894 - val_loss: 0.0833 - val_accuracy: 0.9751\n",
      "Epoch 6/40\n",
      "39000/39000 [==============================] - 309s 8ms/step - loss: 0.0247 - accuracy: 0.9937 - val_loss: 0.0878 - val_accuracy: 0.9737\n",
      "Epoch 7/40\n",
      "39000/39000 [==============================] - 312s 8ms/step - loss: 0.0170 - accuracy: 0.9962 - val_loss: 0.0839 - val_accuracy: 0.9760\n",
      "Epoch 8/40\n",
      "39000/39000 [==============================] - 311s 8ms/step - loss: 0.0119 - accuracy: 0.9978 - val_loss: 0.0800 - val_accuracy: 0.9768\n",
      "Epoch 9/40\n",
      "39000/39000 [==============================] - 325s 8ms/step - loss: 0.0075 - accuracy: 0.9991 - val_loss: 0.0850 - val_accuracy: 0.9761\n",
      "Epoch 10/40\n",
      "39000/39000 [==============================] - 321s 8ms/step - loss: 0.0052 - accuracy: 0.9995 - val_loss: 0.0831 - val_accuracy: 0.9775\n",
      "Epoch 11/40\n",
      "39000/39000 [==============================] - 335s 9ms/step - loss: 0.0036 - accuracy: 0.9999 - val_loss: 0.0820 - val_accuracy: 0.9778\n",
      "Epoch 12/40\n",
      "39000/39000 [==============================] - 321s 8ms/step - loss: 0.0028 - accuracy: 0.9999 - val_loss: 0.0851 - val_accuracy: 0.9776\n",
      "Epoch 13/40\n",
      "39000/39000 [==============================] - 319s 8ms/step - loss: 0.0023 - accuracy: 1.0000 - val_loss: 0.0833 - val_accuracy: 0.9786\n",
      "Epoch 14/40\n",
      "39000/39000 [==============================] - 318s 8ms/step - loss: 0.0018 - accuracy: 1.0000 - val_loss: 0.0856 - val_accuracy: 0.9784\n",
      "Epoch 15/40\n",
      "39000/39000 [==============================] - 320s 8ms/step - loss: 0.0016 - accuracy: 1.0000 - val_loss: 0.0857 - val_accuracy: 0.9787\n",
      "[0.0625563113745884, 0.9800999760627747]\n"
     ]
    }
   ],
   "source": [
    "input_image = Input(shape=(1, 28, 28))\n",
    "flatten = Flatten()(input_image)\n",
    "dense1 = Dense(2000, activation='relu')(flatten)\n",
    "dense2 = Dense(1500, activation='relu')(dense1)\n",
    "dense3 = Dense(10, activation='softmax')(dense2)\n",
    "model = Model(inputs=input_image, outputs=dense3)\n",
    "\n",
    "model.compile(loss='categorical_crossentropy', optimizer='sgd', metrics=['accuracy'])\n",
    "es = EarlyStopping(monitor='val_loss', mode='auto', restore_best_weights=True, patience=7)\n",
    "rlr = ReduceLROnPlateau(monitor='val_loss', factor=0.2, patience=7, min_lr=0.001)\n",
    "model.fit(X_train, Y_train, validation_split=0.35, callbacks=[es, rlr], batch_size=4, epochs=40, verbose=1)\n",
    "score = model.evaluate(X_test, Y_test, verbose=0)\n",
    "print(score)"
   ]
  },
  {
   "cell_type": "markdown",
   "metadata": {
    "colab_type": "text",
    "id": "XnhbEzYEv04B"
   },
   "source": [
    "## 4. (3 балла) Улучшится ли ваш результат, есть в сеть добавить слои нормализации (dropout, batchnorm  и др.)?"
   ]
  },
  {
   "cell_type": "markdown",
   "metadata": {
    "colab_type": "text",
    "id": "etMbDB7Tv04C"
   },
   "source": [
    "[0.06598660109674093, 0.98089998960495]"
   ]
  },
  {
   "cell_type": "code",
   "execution_count": 0,
   "metadata": {
    "colab": {},
    "colab_type": "code",
    "id": "E0S6H4BIv04D",
    "outputId": "1292c30f-2f31-4adb-b55d-9f7c47a95480",
    "scrolled": true
   },
   "outputs": [
    {
     "name": "stdout",
     "output_type": "stream",
     "text": [
      "Train on 39000 samples, validate on 21000 samples\n",
      "Epoch 1/30\n",
      "39000/39000 [==============================] - 34s 866us/step - loss: 0.3169 - accuracy: 0.9032 - val_loss: 0.1379 - val_accuracy: 0.9589\n",
      "Epoch 2/30\n",
      "39000/39000 [==============================] - 32s 810us/step - loss: 0.1481 - accuracy: 0.9554 - val_loss: 0.1072 - val_accuracy: 0.9678\n",
      "Epoch 3/30\n",
      "39000/39000 [==============================] - 33s 835us/step - loss: 0.1041 - accuracy: 0.9683 - val_loss: 0.0965 - val_accuracy: 0.9706\n",
      "Epoch 4/30\n",
      "39000/39000 [==============================] - 32s 825us/step - loss: 0.0827 - accuracy: 0.9741 - val_loss: 0.0909 - val_accuracy: 0.9720\n",
      "Epoch 5/30\n",
      "39000/39000 [==============================] - 32s 817us/step - loss: 0.0653 - accuracy: 0.9797 - val_loss: 0.0850 - val_accuracy: 0.9754\n",
      "Epoch 6/30\n",
      "39000/39000 [==============================] - 32s 831us/step - loss: 0.0499 - accuracy: 0.9846 - val_loss: 0.0836 - val_accuracy: 0.9750\n",
      "Epoch 7/30\n",
      "39000/39000 [==============================] - 33s 835us/step - loss: 0.0438 - accuracy: 0.9868 - val_loss: 0.0792 - val_accuracy: 0.9769\n",
      "Epoch 8/30\n",
      "39000/39000 [==============================] - 32s 822us/step - loss: 0.0352 - accuracy: 0.9894 - val_loss: 0.0776 - val_accuracy: 0.9773\n",
      "Epoch 9/30\n",
      "39000/39000 [==============================] - 32s 822us/step - loss: 0.0298 - accuracy: 0.9911 - val_loss: 0.0810 - val_accuracy: 0.9771\n",
      "Epoch 10/30\n",
      "39000/39000 [==============================] - 34s 874us/step - loss: 0.0258 - accuracy: 0.9926 - val_loss: 0.0784 - val_accuracy: 0.9780\n",
      "Epoch 11/30\n",
      "39000/39000 [==============================] - 35s 885us/step - loss: 0.0228 - accuracy: 0.9942 - val_loss: 0.0794 - val_accuracy: 0.9782\n",
      "Epoch 12/30\n",
      "39000/39000 [==============================] - 37s 937us/step - loss: 0.0217 - accuracy: 0.9939 - val_loss: 0.0782 - val_accuracy: 0.9789\n",
      "Epoch 13/30\n",
      "39000/39000 [==============================] - 33s 844us/step - loss: 0.0196 - accuracy: 0.9945 - val_loss: 0.0786 - val_accuracy: 0.9781\n",
      "Epoch 14/30\n",
      "39000/39000 [==============================] - 30s 778us/step - loss: 0.0175 - accuracy: 0.9947 - val_loss: 0.0782 - val_accuracy: 0.9780\n",
      "Epoch 15/30\n",
      "39000/39000 [==============================] - 30s 772us/step - loss: 0.0151 - accuracy: 0.9960 - val_loss: 0.0799 - val_accuracy: 0.9785\n",
      "[0.06598660109674093, 0.98089998960495]\n"
     ]
    }
   ],
   "source": [
    "input_image = Input(shape=(1, 28, 28))\n",
    "flatten = Flatten()(input_image)\n",
    "dense1 = Dense(1600, activation='relu')(flatten)\n",
    "drop1 = Dropout(0.25)(dense1)\n",
    "norm1 = BatchNormalization()(drop1)\n",
    "dense2 = Dense(800, activation='relu')(norm1)\n",
    "norm2 = BatchNormalization()(dense2)\n",
    "dense3 = Dense(10, activation='softmax')(norm2)\n",
    "model = Model(inputs=input_image, outputs=dense3)\n",
    "\n",
    "model.compile(loss='categorical_crossentropy', optimizer='sgd', metrics=['accuracy'])\n",
    "es = EarlyStopping(monitor='val_loss', mode='auto', restore_best_weights=True, patience=7)\n",
    "rlr = ReduceLROnPlateau(monitor='val_loss', factor=0.2, patience=7, min_lr=0.001)\n",
    "model.fit(X_train, Y_train, validation_split=0.35, callbacks=[es, rlr], batch_size=32, epochs=30, verbose=1)\n",
    "score = model.evaluate(X_test, Y_test, verbose=0)\n",
    "print(score)"
   ]
  },
  {
   "cell_type": "markdown",
   "metadata": {
    "colab_type": "text",
    "id": "1ZHrX-7gv04I"
   },
   "source": [
    "#### 5. (4 баллов) Обучите полносвязную нейронную сеть (без свёрточных слоёв), достигающую лучшего качества на тесте без ограничений на количество слоёв?"
   ]
  },
  {
   "cell_type": "markdown",
   "metadata": {
    "colab_type": "text",
    "id": "Gx4shGowv04K"
   },
   "source": [
    "[0.06803294677661907, 0.9825999736785889]"
   ]
  },
  {
   "cell_type": "code",
   "execution_count": 0,
   "metadata": {
    "colab": {},
    "colab_type": "code",
    "id": "OtdYsf-wv04L",
    "outputId": "b7f524b7-469d-4c18-8f58-5c2fec2c4118",
    "scrolled": true
   },
   "outputs": [
    {
     "name": "stdout",
     "output_type": "stream",
     "text": [
      "Train on 39000 samples, validate on 21000 samples\n",
      "Epoch 1/30\n",
      "39000/39000 [==============================] - 157s 4ms/step - loss: 0.2821 - accuracy: 0.9134 - val_loss: 0.1148 - val_accuracy: 0.9652\n",
      "Epoch 2/30\n",
      "39000/39000 [==============================] - 139s 4ms/step - loss: 0.1240 - accuracy: 0.9606 - val_loss: 0.0933 - val_accuracy: 0.9720\n",
      "Epoch 3/30\n",
      "39000/39000 [==============================] - 139s 4ms/step - loss: 0.0874 - accuracy: 0.9712 - val_loss: 0.0869 - val_accuracy: 0.9745\n",
      "Epoch 4/30\n",
      "39000/39000 [==============================] - 141s 4ms/step - loss: 0.0661 - accuracy: 0.9783 - val_loss: 0.0811 - val_accuracy: 0.9755\n",
      "Epoch 5/30\n",
      "39000/39000 [==============================] - 8377s 215ms/step - loss: 0.0487 - accuracy: 0.9843 - val_loss: 0.0774 - val_accuracy: 0.9780\n",
      "Epoch 6/30\n",
      "39000/39000 [==============================] - 152s 4ms/step - loss: 0.0376 - accuracy: 0.9879 - val_loss: 0.0754 - val_accuracy: 0.9781\n",
      "Epoch 7/30\n",
      "39000/39000 [==============================] - 139s 4ms/step - loss: 0.0321 - accuracy: 0.9898 - val_loss: 0.0768 - val_accuracy: 0.9783\n",
      "Epoch 8/30\n",
      "39000/39000 [==============================] - 139s 4ms/step - loss: 0.0274 - accuracy: 0.9914 - val_loss: 0.0756 - val_accuracy: 0.9789\n",
      "Epoch 9/30\n",
      "39000/39000 [==============================] - 140s 4ms/step - loss: 0.0248 - accuracy: 0.9921 - val_loss: 0.0760 - val_accuracy: 0.9785\n",
      "Epoch 10/30\n",
      "39000/39000 [==============================] - 139s 4ms/step - loss: 0.0209 - accuracy: 0.9933 - val_loss: 0.0768 - val_accuracy: 0.9796\n",
      "Epoch 11/30\n",
      "39000/39000 [==============================] - 137s 4ms/step - loss: 0.0172 - accuracy: 0.9947 - val_loss: 0.0779 - val_accuracy: 0.9791\n",
      "Epoch 12/30\n",
      "39000/39000 [==============================] - 139s 4ms/step - loss: 0.0154 - accuracy: 0.9951 - val_loss: 0.0769 - val_accuracy: 0.9798\n",
      "Epoch 13/30\n",
      "39000/39000 [==============================] - 138s 4ms/step - loss: 0.0157 - accuracy: 0.9949 - val_loss: 0.0750 - val_accuracy: 0.9803\n",
      "Epoch 14/30\n",
      "39000/39000 [==============================] - 138s 4ms/step - loss: 0.0146 - accuracy: 0.9955 - val_loss: 0.0756 - val_accuracy: 0.9805\n",
      "Epoch 15/30\n",
      "39000/39000 [==============================] - 136s 3ms/step - loss: 0.0113 - accuracy: 0.9966 - val_loss: 0.0760 - val_accuracy: 0.9804\n",
      "Epoch 16/30\n",
      "39000/39000 [==============================] - 137s 4ms/step - loss: 0.0107 - accuracy: 0.9966 - val_loss: 0.0752 - val_accuracy: 0.9807\n",
      "Epoch 17/30\n",
      "39000/39000 [==============================] - 137s 4ms/step - loss: 0.0102 - accuracy: 0.9969 - val_loss: 0.0759 - val_accuracy: 0.9803\n",
      "Epoch 18/30\n",
      "39000/39000 [==============================] - 137s 4ms/step - loss: 0.0095 - accuracy: 0.9969 - val_loss: 0.0773 - val_accuracy: 0.9805\n",
      "Epoch 19/30\n",
      "39000/39000 [==============================] - 139s 4ms/step - loss: 0.0079 - accuracy: 0.9978 - val_loss: 0.0792 - val_accuracy: 0.9810\n",
      "Epoch 20/30\n",
      "39000/39000 [==============================] - 138s 4ms/step - loss: 0.0080 - accuracy: 0.9976 - val_loss: 0.0780 - val_accuracy: 0.9807\n",
      "[0.06803294677661907, 0.9825999736785889]\n"
     ]
    }
   ],
   "source": [
    "input_image = Input(shape=(1, 28, 28))\n",
    "flatten = Flatten()(input_image)\n",
    "dense1 = Dense(2500, activation='relu')(flatten)\n",
    "drop1 = Dropout(0.25)(dense1)\n",
    "norm1 = BatchNormalization()(drop1)\n",
    "dense2 = Dense(2000, activation='relu')(norm1)\n",
    "norm2 = BatchNormalization()(dense2)\n",
    "dense3 = Dense(1500, activation='relu')(norm2)\n",
    "norm3 = BatchNormalization()(dense3)\n",
    "dense4 = Dense(1000, activation='relu')(norm3)\n",
    "norm4 = BatchNormalization()(dense4)\n",
    "dense5 = Dense(500, activation='relu')(norm4)\n",
    "norm5 = BatchNormalization()(dense4)\n",
    "dense6 = Dense(10, activation='softmax')(norm5)\n",
    "model = Model(inputs=input_image, outputs=dense6)\n",
    "\n",
    "model.compile(loss='categorical_crossentropy', optimizer='sgd', metrics=['accuracy'])\n",
    "es = EarlyStopping(monitor='val_loss', mode='auto', restore_best_weights=True, patience=7)\n",
    "rlr = ReduceLROnPlateau(monitor='val_loss', factor=0.2, patience=7, min_lr=0.001)\n",
    "model.fit(X_train, Y_train, validation_split=0.35, callbacks=[es, rlr], batch_size=32, epochs=30, verbose=1)\n",
    "score = model.evaluate(X_test, Y_test, verbose=0)\n",
    "print(score)"
   ]
  },
  {
   "cell_type": "markdown",
   "metadata": {
    "colab_type": "text",
    "id": "xr7t5zAvv04T"
   },
   "source": [
    "#### 6. (3 баллов) Обучите  нейронную сеть с  одним свёрточным слоем,  достигающую лучшего качества на тесте без ограничений на общее количество слоёв? Слой субдискретизации можно использовать в неограниченном количестве."
   ]
  },
  {
   "cell_type": "markdown",
   "metadata": {
    "colab_type": "text",
    "id": "dTZek3wpv04U"
   },
   "source": [
    "[0.031131103230834924, 0.9912999868392944]"
   ]
  },
  {
   "cell_type": "code",
   "execution_count": 0,
   "metadata": {
    "colab": {},
    "colab_type": "code",
    "id": "_5X69DlLv04U",
    "outputId": "8362768e-a82d-4bd2-f6b9-a291ce8cfb3e",
    "scrolled": true
   },
   "outputs": [
    {
     "name": "stdout",
     "output_type": "stream",
     "text": [
      "Train on 39000 samples, validate on 21000 samples\n",
      "Epoch 1/30\n",
      "39000/39000 [==============================] - 641s 16ms/step - loss: 0.2268 - accuracy: 0.9286 - val_loss: 0.0786 - val_accuracy: 0.9770\n",
      "Epoch 2/30\n",
      "39000/39000 [==============================] - 620s 16ms/step - loss: 0.0868 - accuracy: 0.9735 - val_loss: 0.0586 - val_accuracy: 0.9830\n",
      "Epoch 3/30\n",
      "39000/39000 [==============================] - 620s 16ms/step - loss: 0.0580 - accuracy: 0.9811 - val_loss: 0.0529 - val_accuracy: 0.9847\n",
      "Epoch 4/30\n",
      "39000/39000 [==============================] - 618s 16ms/step - loss: 0.0427 - accuracy: 0.9865 - val_loss: 0.0494 - val_accuracy: 0.9858\n",
      "Epoch 5/30\n",
      "39000/39000 [==============================] - 619s 16ms/step - loss: 0.0319 - accuracy: 0.9897 - val_loss: 0.0482 - val_accuracy: 0.9853\n",
      "Epoch 6/30\n",
      "39000/39000 [==============================] - 622s 16ms/step - loss: 0.0230 - accuracy: 0.9924 - val_loss: 0.0464 - val_accuracy: 0.9865\n",
      "Epoch 7/30\n",
      "39000/39000 [==============================] - 624s 16ms/step - loss: 0.0215 - accuracy: 0.9931 - val_loss: 0.0511 - val_accuracy: 0.9866\n",
      "Epoch 8/30\n",
      "39000/39000 [==============================] - 623s 16ms/step - loss: 0.0142 - accuracy: 0.9952 - val_loss: 0.0468 - val_accuracy: 0.9866\n",
      "Epoch 9/30\n",
      "39000/39000 [==============================] - 623s 16ms/step - loss: 0.0104 - accuracy: 0.9971 - val_loss: 0.0459 - val_accuracy: 0.9880\n",
      "Epoch 10/30\n",
      "39000/39000 [==============================] - 599s 15ms/step - loss: 0.0108 - accuracy: 0.9968 - val_loss: 0.0450 - val_accuracy: 0.9877\n",
      "Epoch 11/30\n",
      "39000/39000 [==============================] - 610s 16ms/step - loss: 0.0090 - accuracy: 0.9973 - val_loss: 0.0473 - val_accuracy: 0.9876\n",
      "Epoch 12/30\n",
      "39000/39000 [==============================] - 728s 19ms/step - loss: 0.0087 - accuracy: 0.9974 - val_loss: 0.0457 - val_accuracy: 0.9881\n",
      "Epoch 13/30\n",
      "39000/39000 [==============================] - 1207s 31ms/step - loss: 0.0073 - accuracy: 0.9975 - val_loss: 0.0460 - val_accuracy: 0.9881\n",
      "Epoch 14/30\n",
      "39000/39000 [==============================] - 634s 16ms/step - loss: 0.0070 - accuracy: 0.9978 - val_loss: 0.0451 - val_accuracy: 0.9885\n",
      "Epoch 15/30\n",
      "39000/39000 [==============================] - 609s 16ms/step - loss: 0.0047 - accuracy: 0.9987 - val_loss: 0.0428 - val_accuracy: 0.9897\n",
      "Epoch 16/30\n",
      "39000/39000 [==============================] - 618s 16ms/step - loss: 0.0049 - accuracy: 0.9986 - val_loss: 0.0427 - val_accuracy: 0.9898\n",
      "Epoch 17/30\n",
      "39000/39000 [==============================] - 611s 16ms/step - loss: 0.0045 - accuracy: 0.9988 - val_loss: 0.0430 - val_accuracy: 0.9899\n",
      "Epoch 18/30\n",
      "39000/39000 [==============================] - 618s 16ms/step - loss: 0.0034 - accuracy: 0.9991 - val_loss: 0.0437 - val_accuracy: 0.9896\n",
      "Epoch 19/30\n",
      "39000/39000 [==============================] - 619s 16ms/step - loss: 0.0035 - accuracy: 0.9991 - val_loss: 0.0437 - val_accuracy: 0.9900\n",
      "Epoch 20/30\n",
      "39000/39000 [==============================] - 615s 16ms/step - loss: 0.0034 - accuracy: 0.9990 - val_loss: 0.0454 - val_accuracy: 0.9894\n",
      "Epoch 21/30\n",
      "39000/39000 [==============================] - 613s 16ms/step - loss: 0.0033 - accuracy: 0.9991 - val_loss: 0.0444 - val_accuracy: 0.9895\n",
      "Epoch 22/30\n",
      "39000/39000 [==============================] - 617s 16ms/step - loss: 0.0025 - accuracy: 0.9994 - val_loss: 0.0435 - val_accuracy: 0.9898\n",
      "Epoch 23/30\n",
      "39000/39000 [==============================] - 616s 16ms/step - loss: 0.0031 - accuracy: 0.9991 - val_loss: 0.0455 - val_accuracy: 0.9895\n",
      "[0.031131103230834924, 0.9912999868392944]\n"
     ]
    }
   ],
   "source": [
    "input_image = Input(shape=(1, 28, 28))\n",
    "conv1 = Conv2D(filters=100, kernel_size=(4, 4), activation='relu', data_format='channels_first')(input_image)\n",
    "pool1 = MaxPooling2D(pool_size=(2,2), data_format='channels_first')(conv1)\n",
    "flatten = Flatten()(pool1)\n",
    "dense1 = Dense(2500, activation='relu')(flatten)\n",
    "drop1 = Dropout(0.25)(dense1)\n",
    "norm1 = BatchNormalization()(drop1)\n",
    "dense2 = Dense(2000, activation='relu')(norm1)\n",
    "norm2 = BatchNormalization()(dense2)\n",
    "dense3 = Dense(1500, activation='relu')(norm2)\n",
    "norm3 = BatchNormalization()(dense3)\n",
    "dense4 = Dense(1000, activation='relu')(norm3)\n",
    "norm4 = BatchNormalization()(dense4)\n",
    "dense5 = Dense(500, activation='relu')(norm4)\n",
    "norm5 = BatchNormalization()(dense4)\n",
    "dense6 = Dense(10, activation='softmax')(norm5)\n",
    "model = Model(inputs=input_image, outputs=dense6)\n",
    "\n",
    "model.compile(loss='categorical_crossentropy', optimizer='sgd', metrics=['accuracy'])\n",
    "es = EarlyStopping(monitor='val_loss', mode='auto', restore_best_weights=True, patience=7)\n",
    "rlr = ReduceLROnPlateau(monitor='val_loss', factor=0.2, patience=7, min_lr=0.001)\n",
    "model.fit(X_train, Y_train, validation_split=0.35, callbacks=[es, rlr], batch_size=32, epochs=30, verbose=1)\n",
    "score = model.evaluate(X_test, Y_test, verbose=0)\n",
    "print(score)"
   ]
  },
  {
   "cell_type": "markdown",
   "metadata": {
    "colab_type": "text",
    "id": "GI6F4ZCiv04W"
   },
   "source": [
    "#### 7. (5 баллов) Обучите лучшую нейронную сеть следующими оптимизаторами: SGD, SGD + Momentum, SGD + NAG, AdaGrad, Adadelta, RMSprop, Adam. Какой оптимизатор позволяет достигнуть наибольшего качества на тесте? Какой оптимизатор сходится быстрее?"
   ]
  },
  {
   "cell_type": "markdown",
   "metadata": {
    "colab": {},
    "colab_type": "code",
    "id": "fxS9U6Y-v04X"
   },
   "source": [
    "Лучшего качества на тесте позволяет достичь оптимизатор SGD. Быстрее всего сходится оптимизатор RMSprop и AdaGrad."
   ]
  },
  {
   "cell_type": "markdown",
   "metadata": {
    "colab_type": "text",
    "id": "lG7BpSJQv04Y"
   },
   "source": [
    "[0.031131103230834924, 0.9912999868392944] # SGD "
   ]
  },
  {
   "cell_type": "markdown",
   "metadata": {
    "colab_type": "text",
    "id": "idY50pLhv04Z"
   },
   "source": [
    "[0.03254392030218951, 0.9900000095367432] # SGD + Momentum"
   ]
  },
  {
   "cell_type": "code",
   "execution_count": 0,
   "metadata": {
    "colab": {},
    "colab_type": "code",
    "id": "l3VnJ6xev04Z",
    "outputId": "eab762ec-f9ef-4105-83a7-2b8ca9fbe09c",
    "scrolled": true
   },
   "outputs": [
    {
     "name": "stdout",
     "output_type": "stream",
     "text": [
      "Train on 39000 samples, validate on 21000 samples\n",
      "Epoch 1/30\n",
      "39000/39000 [==============================] - 731s 19ms/step - loss: 0.2323 - accuracy: 0.9272 - val_loss: 0.0747 - val_accuracy: 0.9764\n",
      "Epoch 2/30\n",
      "39000/39000 [==============================] - 675s 17ms/step - loss: 0.0908 - accuracy: 0.9715 - val_loss: 0.0574 - val_accuracy: 0.9832\n",
      "Epoch 3/30\n",
      "39000/39000 [==============================] - 663s 17ms/step - loss: 0.0562 - accuracy: 0.9819 - val_loss: 0.0475 - val_accuracy: 0.9862\n",
      "Epoch 4/30\n",
      "39000/39000 [==============================] - 689s 18ms/step - loss: 0.0363 - accuracy: 0.9884 - val_loss: 0.0502 - val_accuracy: 0.9855\n",
      "Epoch 5/30\n",
      "39000/39000 [==============================] - 671s 17ms/step - loss: 0.0275 - accuracy: 0.9906 - val_loss: 0.0446 - val_accuracy: 0.9864\n",
      "Epoch 6/30\n",
      "39000/39000 [==============================] - 675s 17ms/step - loss: 0.0208 - accuracy: 0.9932 - val_loss: 0.0442 - val_accuracy: 0.9874\n",
      "Epoch 7/30\n",
      "39000/39000 [==============================] - 667s 17ms/step - loss: 0.0172 - accuracy: 0.9948 - val_loss: 0.0468 - val_accuracy: 0.9873\n",
      "Epoch 8/30\n",
      "39000/39000 [==============================] - 676s 17ms/step - loss: 0.0153 - accuracy: 0.9952 - val_loss: 0.0440 - val_accuracy: 0.9879\n",
      "Epoch 9/30\n",
      "39000/39000 [==============================] - 671s 17ms/step - loss: 0.0096 - accuracy: 0.9971 - val_loss: 0.0430 - val_accuracy: 0.9886\n",
      "Epoch 10/30\n",
      "39000/39000 [==============================] - 669s 17ms/step - loss: 0.0090 - accuracy: 0.9973 - val_loss: 0.0457 - val_accuracy: 0.9878\n",
      "Epoch 11/30\n",
      "39000/39000 [==============================] - 691s 18ms/step - loss: 0.0076 - accuracy: 0.9976 - val_loss: 0.0451 - val_accuracy: 0.9884\n",
      "Epoch 12/30\n",
      "39000/39000 [==============================] - 678s 17ms/step - loss: 0.0066 - accuracy: 0.9979 - val_loss: 0.0485 - val_accuracy: 0.9876\n",
      "Epoch 13/30\n",
      "39000/39000 [==============================] - 670s 17ms/step - loss: 0.0066 - accuracy: 0.9979 - val_loss: 0.0459 - val_accuracy: 0.9890\n",
      "Epoch 14/30\n",
      "39000/39000 [==============================] - 688s 18ms/step - loss: 0.0050 - accuracy: 0.9986 - val_loss: 0.0444 - val_accuracy: 0.9890\n",
      "Epoch 15/30\n",
      "39000/39000 [==============================] - 755s 19ms/step - loss: 0.0057 - accuracy: 0.9982 - val_loss: 0.0436 - val_accuracy: 0.9889\n",
      "Epoch 16/30\n",
      "39000/39000 [==============================] - 640s 16ms/step - loss: 0.0042 - accuracy: 0.9987 - val_loss: 0.0434 - val_accuracy: 0.9888\n",
      "[0.03254392030218951, 0.9900000095367432]\n"
     ]
    }
   ],
   "source": [
    "input_image = Input(shape=(1, 28, 28))\n",
    "conv1 = Conv2D(filters=100, kernel_size=(4, 4), activation='relu', data_format='channels_first')(input_image)\n",
    "pool1 = MaxPooling2D(pool_size=(2,2), data_format='channels_first')(conv1)\n",
    "flatten = Flatten()(pool1)\n",
    "dense1 = Dense(2500, activation='relu')(flatten)\n",
    "drop1 = Dropout(0.25)(dense1)\n",
    "norm1 = BatchNormalization()(drop1)\n",
    "dense2 = Dense(2000, activation='relu')(norm1)\n",
    "norm2 = BatchNormalization()(dense2)\n",
    "dense3 = Dense(1500, activation='relu')(norm2)\n",
    "norm3 = BatchNormalization()(dense3)\n",
    "dense4 = Dense(1000, activation='relu')(norm3)\n",
    "norm4 = BatchNormalization()(dense4)\n",
    "dense5 = Dense(500, activation='relu')(norm4)\n",
    "norm5 = BatchNormalization()(dense4)\n",
    "dense6 = Dense(10, activation='softmax')(norm5)\n",
    "model = Model(inputs=input_image, outputs=dense6)\n",
    "\n",
    "opt_sgd = SGD(learning_rate=0.01, momentum=0.15, nesterov=False)\n",
    "model.compile(loss='categorical_crossentropy', optimizer=opt_sgd, metrics=['accuracy'])\n",
    "es = EarlyStopping(monitor='val_loss', mode='auto', restore_best_weights=True, patience=7)\n",
    "rlr = ReduceLROnPlateau(monitor='val_loss', factor=0.2, patience=7, min_lr=0.001)\n",
    "model.fit(X_train, Y_train, validation_split=0.35, callbacks=[es, rlr], batch_size=32, epochs=30, verbose=1)\n",
    "score = model.evaluate(X_test, Y_test, verbose=0)\n",
    "print(score)"
   ]
  },
  {
   "cell_type": "markdown",
   "metadata": {
    "colab_type": "text",
    "id": "s7_S0Mbbv04b"
   },
   "source": [
    "[0.03393979576454731, 0.9897000193595886] # SGD + NAG"
   ]
  },
  {
   "cell_type": "code",
   "execution_count": 3,
   "metadata": {
    "colab": {
     "base_uri": "https://localhost:8080/",
     "height": 802
    },
    "colab_type": "code",
    "id": "SQ8Q_uDfv04c",
    "outputId": "2d45c4d2-30cd-4891-dfd5-406c19752415",
    "scrolled": true
   },
   "outputs": [
    {
     "name": "stdout",
     "output_type": "stream",
     "text": [
      "WARNING:tensorflow:From /usr/local/lib/python3.6/dist-packages/tensorflow_core/python/ops/resource_variable_ops.py:1630: calling BaseResourceVariable.__init__ (from tensorflow.python.ops.resource_variable_ops) with constraint is deprecated and will be removed in a future version.\n",
      "Instructions for updating:\n",
      "If using Keras pass *_constraint arguments to layers.\n",
      "WARNING:tensorflow:From /usr/local/lib/python3.6/dist-packages/keras/backend/tensorflow_backend.py:4070: The name tf.nn.max_pool is deprecated. Please use tf.nn.max_pool2d instead.\n",
      "\n",
      "WARNING:tensorflow:From /usr/local/lib/python3.6/dist-packages/keras/backend/tensorflow_backend.py:422: The name tf.global_variables is deprecated. Please use tf.compat.v1.global_variables instead.\n",
      "\n",
      "Train on 39000 samples, validate on 21000 samples\n",
      "Epoch 1/30\n",
      "39000/39000 [==============================] - 23s 587us/step - loss: 0.2356 - accuracy: 0.9283 - val_loss: 0.0806 - val_accuracy: 0.9762\n",
      "Epoch 2/30\n",
      "39000/39000 [==============================] - 19s 487us/step - loss: 0.0890 - accuracy: 0.9722 - val_loss: 0.0624 - val_accuracy: 0.9802\n",
      "Epoch 3/30\n",
      "39000/39000 [==============================] - 19s 486us/step - loss: 0.0558 - accuracy: 0.9827 - val_loss: 0.0550 - val_accuracy: 0.9843\n",
      "Epoch 4/30\n",
      "39000/39000 [==============================] - 19s 486us/step - loss: 0.0409 - accuracy: 0.9868 - val_loss: 0.0435 - val_accuracy: 0.9868\n",
      "Epoch 5/30\n",
      "39000/39000 [==============================] - 19s 485us/step - loss: 0.0303 - accuracy: 0.9904 - val_loss: 0.0484 - val_accuracy: 0.9864\n",
      "Epoch 6/30\n",
      "39000/39000 [==============================] - 19s 486us/step - loss: 0.0221 - accuracy: 0.9931 - val_loss: 0.0431 - val_accuracy: 0.9879\n",
      "Epoch 7/30\n",
      "39000/39000 [==============================] - 19s 488us/step - loss: 0.0184 - accuracy: 0.9941 - val_loss: 0.0450 - val_accuracy: 0.9871\n",
      "Epoch 8/30\n",
      "39000/39000 [==============================] - 19s 487us/step - loss: 0.0164 - accuracy: 0.9946 - val_loss: 0.0416 - val_accuracy: 0.9884\n",
      "Epoch 9/30\n",
      "39000/39000 [==============================] - 19s 486us/step - loss: 0.0119 - accuracy: 0.9967 - val_loss: 0.0454 - val_accuracy: 0.9882\n",
      "Epoch 10/30\n",
      "39000/39000 [==============================] - 19s 492us/step - loss: 0.0096 - accuracy: 0.9971 - val_loss: 0.0416 - val_accuracy: 0.9885\n",
      "Epoch 11/30\n",
      "39000/39000 [==============================] - 19s 486us/step - loss: 0.0087 - accuracy: 0.9978 - val_loss: 0.0409 - val_accuracy: 0.9891\n",
      "Epoch 12/30\n",
      "39000/39000 [==============================] - 19s 485us/step - loss: 0.0075 - accuracy: 0.9975 - val_loss: 0.0450 - val_accuracy: 0.9878\n",
      "Epoch 13/30\n",
      "39000/39000 [==============================] - 19s 489us/step - loss: 0.0069 - accuracy: 0.9978 - val_loss: 0.0433 - val_accuracy: 0.9890\n",
      "Epoch 14/30\n",
      "39000/39000 [==============================] - 19s 488us/step - loss: 0.0057 - accuracy: 0.9983 - val_loss: 0.0418 - val_accuracy: 0.9893\n",
      "Epoch 15/30\n",
      "39000/39000 [==============================] - 19s 486us/step - loss: 0.0052 - accuracy: 0.9987 - val_loss: 0.0440 - val_accuracy: 0.9888\n",
      "Epoch 16/30\n",
      "39000/39000 [==============================] - 19s 484us/step - loss: 0.0042 - accuracy: 0.9989 - val_loss: 0.0437 - val_accuracy: 0.9894\n",
      "Epoch 17/30\n",
      "39000/39000 [==============================] - 19s 486us/step - loss: 0.0039 - accuracy: 0.9988 - val_loss: 0.0429 - val_accuracy: 0.9895\n",
      "Epoch 18/30\n",
      "39000/39000 [==============================] - 19s 487us/step - loss: 0.0039 - accuracy: 0.9987 - val_loss: 0.0424 - val_accuracy: 0.9901\n",
      "[0.03393979576454731, 0.9897000193595886]\n"
     ]
    }
   ],
   "source": [
    "input_image = Input(shape=(1, 28, 28))\n",
    "conv1 = Conv2D(filters=100, kernel_size=(4, 4), activation='relu', data_format='channels_first')(input_image)\n",
    "pool1 = MaxPooling2D(pool_size=(2,2), data_format='channels_first')(conv1)\n",
    "flatten = Flatten()(pool1)\n",
    "dense1 = Dense(2500, activation='relu')(flatten)\n",
    "drop1 = Dropout(0.25)(dense1)\n",
    "norm1 = BatchNormalization()(drop1)\n",
    "dense2 = Dense(2000, activation='relu')(norm1)\n",
    "norm2 = BatchNormalization()(dense2)\n",
    "dense3 = Dense(1500, activation='relu')(norm2)\n",
    "norm3 = BatchNormalization()(dense3)\n",
    "dense4 = Dense(1000, activation='relu')(norm3)\n",
    "norm4 = BatchNormalization()(dense4)\n",
    "dense5 = Dense(500, activation='relu')(norm4)\n",
    "norm5 = BatchNormalization()(dense4)\n",
    "dense6 = Dense(10, activation='softmax')(norm5)\n",
    "model = Model(inputs=input_image, outputs=dense6)\n",
    "\n",
    "opt_sgd = SGD(learning_rate=0.01, momentum=0.0, nesterov=True)\n",
    "model.compile(loss='categorical_crossentropy', optimizer=opt_sgd, metrics=['accuracy'])\n",
    "es = EarlyStopping(monitor='val_loss', mode='auto', restore_best_weights=True, patience=7)\n",
    "rlr = ReduceLROnPlateau(monitor='val_loss', factor=0.2, patience=7, min_lr=0.001)\n",
    "model.fit(X_train, Y_train, validation_split=0.35, callbacks=[es, rlr], batch_size=32, epochs=30, verbose=1)\n",
    "score = model.evaluate(X_test, Y_test, verbose=0)\n",
    "print(score)"
   ]
  },
  {
   "cell_type": "markdown",
   "metadata": {
    "colab_type": "text",
    "id": "V1bkIfc6v04g"
   },
   "source": [
    "[0.036020036213030106, 0.9900000095367432] # AdaGrad"
   ]
  },
  {
   "cell_type": "code",
   "execution_count": 4,
   "metadata": {
    "colab": {
     "base_uri": "https://localhost:8080/",
     "height": 425
    },
    "colab_type": "code",
    "id": "B9eXm7VKv04h",
    "outputId": "b9e4d572-b4cb-453e-b95f-8deee5992c31",
    "scrolled": true
   },
   "outputs": [
    {
     "name": "stdout",
     "output_type": "stream",
     "text": [
      "Train on 39000 samples, validate on 21000 samples\n",
      "Epoch 1/30\n",
      "39000/39000 [==============================] - 22s 558us/step - loss: 0.2191 - accuracy: 0.9439 - val_loss: 0.0561 - val_accuracy: 0.9827\n",
      "Epoch 2/30\n",
      "39000/39000 [==============================] - 21s 545us/step - loss: 0.0580 - accuracy: 0.9819 - val_loss: 0.0454 - val_accuracy: 0.9860\n",
      "Epoch 3/30\n",
      "39000/39000 [==============================] - 21s 544us/step - loss: 0.0330 - accuracy: 0.9895 - val_loss: 0.0479 - val_accuracy: 0.9863\n",
      "Epoch 4/30\n",
      "39000/39000 [==============================] - 21s 544us/step - loss: 0.0218 - accuracy: 0.9929 - val_loss: 0.0442 - val_accuracy: 0.9872\n",
      "Epoch 5/30\n",
      "39000/39000 [==============================] - 21s 539us/step - loss: 0.0144 - accuracy: 0.9951 - val_loss: 0.0492 - val_accuracy: 0.9870\n",
      "Epoch 6/30\n",
      "39000/39000 [==============================] - 21s 542us/step - loss: 0.0118 - accuracy: 0.9963 - val_loss: 0.0461 - val_accuracy: 0.9879\n",
      "Epoch 7/30\n",
      "39000/39000 [==============================] - 22s 552us/step - loss: 0.0082 - accuracy: 0.9972 - val_loss: 0.0485 - val_accuracy: 0.9877\n",
      "Epoch 8/30\n",
      "39000/39000 [==============================] - 21s 543us/step - loss: 0.0069 - accuracy: 0.9981 - val_loss: 0.0446 - val_accuracy: 0.9890\n",
      "Epoch 9/30\n",
      "39000/39000 [==============================] - 21s 541us/step - loss: 0.0061 - accuracy: 0.9981 - val_loss: 0.0497 - val_accuracy: 0.9883\n",
      "Epoch 10/30\n",
      "39000/39000 [==============================] - 21s 542us/step - loss: 0.0050 - accuracy: 0.9984 - val_loss: 0.0496 - val_accuracy: 0.9877\n",
      "Epoch 11/30\n",
      "39000/39000 [==============================] - 21s 543us/step - loss: 0.0037 - accuracy: 0.9987 - val_loss: 0.0452 - val_accuracy: 0.9887\n",
      "[0.036020036213030106, 0.9900000095367432]\n"
     ]
    }
   ],
   "source": [
    "input_image = Input(shape=(1, 28, 28))\n",
    "conv1 = Conv2D(filters=100, kernel_size=(4, 4), activation='relu', data_format='channels_first')(input_image)\n",
    "pool1 = MaxPooling2D(pool_size=(2,2), data_format='channels_first')(conv1)\n",
    "flatten = Flatten()(pool1)\n",
    "dense1 = Dense(2500, activation='relu')(flatten)\n",
    "drop1 = Dropout(0.25)(dense1)\n",
    "norm1 = BatchNormalization()(drop1)\n",
    "dense2 = Dense(2000, activation='relu')(norm1)\n",
    "norm2 = BatchNormalization()(dense2)\n",
    "dense3 = Dense(1500, activation='relu')(norm2)\n",
    "norm3 = BatchNormalization()(dense3)\n",
    "dense4 = Dense(1000, activation='relu')(norm3)\n",
    "norm4 = BatchNormalization()(dense4)\n",
    "dense5 = Dense(500, activation='relu')(norm4)\n",
    "norm5 = BatchNormalization()(dense4)\n",
    "dense6 = Dense(10, activation='softmax')(norm5)\n",
    "model = Model(inputs=input_image, outputs=dense6)\n",
    "\n",
    "opt_ag = Adagrad(learning_rate=0.01)\n",
    "model.compile(loss='categorical_crossentropy', optimizer=opt_ag, metrics=['accuracy'])\n",
    "es = EarlyStopping(monitor='val_loss', mode='auto', restore_best_weights=True, patience=7)\n",
    "rlr = ReduceLROnPlateau(monitor='val_loss', factor=0.2, patience=7, min_lr=0.001)\n",
    "model.fit(X_train, Y_train, validation_split=0.35, callbacks=[es, rlr], batch_size=32, epochs=30, verbose=1)\n",
    "score = model.evaluate(X_test, Y_test, verbose=0)\n",
    "print(score)"
   ]
  },
  {
   "cell_type": "markdown",
   "metadata": {
    "colab_type": "text",
    "id": "oluBRBYpv04j"
   },
   "source": [
    "[0.03644836283873519, 0.9907000064849854] # Adadelta"
   ]
  },
  {
   "cell_type": "code",
   "execution_count": 5,
   "metadata": {
    "colab": {
     "base_uri": "https://localhost:8080/",
     "height": 527
    },
    "colab_type": "code",
    "id": "URq9v5_tv04j",
    "outputId": "982eb4a1-dfa1-4ccc-9df2-ce32ce644878",
    "scrolled": true
   },
   "outputs": [
    {
     "name": "stdout",
     "output_type": "stream",
     "text": [
      "Train on 39000 samples, validate on 21000 samples\n",
      "Epoch 1/30\n",
      "39000/39000 [==============================] - 33s 840us/step - loss: 0.2664 - accuracy: 0.9288 - val_loss: 0.0870 - val_accuracy: 0.9762\n",
      "Epoch 2/30\n",
      "39000/39000 [==============================] - 32s 822us/step - loss: 0.0874 - accuracy: 0.9748 - val_loss: 0.0672 - val_accuracy: 0.9814\n",
      "Epoch 3/30\n",
      "39000/39000 [==============================] - 32s 822us/step - loss: 0.0613 - accuracy: 0.9818 - val_loss: 0.0557 - val_accuracy: 0.9840\n",
      "Epoch 4/30\n",
      "39000/39000 [==============================] - 32s 823us/step - loss: 0.0434 - accuracy: 0.9873 - val_loss: 0.0782 - val_accuracy: 0.9814\n",
      "Epoch 5/30\n",
      "39000/39000 [==============================] - 32s 825us/step - loss: 0.0328 - accuracy: 0.9898 - val_loss: 0.0519 - val_accuracy: 0.9868\n",
      "Epoch 6/30\n",
      "39000/39000 [==============================] - 32s 823us/step - loss: 0.0256 - accuracy: 0.9917 - val_loss: 0.0522 - val_accuracy: 0.9870\n",
      "Epoch 7/30\n",
      "39000/39000 [==============================] - 32s 829us/step - loss: 0.0234 - accuracy: 0.9929 - val_loss: 0.0484 - val_accuracy: 0.9875\n",
      "Epoch 8/30\n",
      "39000/39000 [==============================] - 32s 823us/step - loss: 0.0180 - accuracy: 0.9940 - val_loss: 0.0576 - val_accuracy: 0.9862\n",
      "Epoch 9/30\n",
      "39000/39000 [==============================] - 32s 824us/step - loss: 0.0148 - accuracy: 0.9950 - val_loss: 0.0645 - val_accuracy: 0.9857\n",
      "Epoch 10/30\n",
      "39000/39000 [==============================] - 32s 825us/step - loss: 0.0143 - accuracy: 0.9955 - val_loss: 0.0603 - val_accuracy: 0.9867\n",
      "Epoch 11/30\n",
      "39000/39000 [==============================] - 32s 824us/step - loss: 0.0113 - accuracy: 0.9964 - val_loss: 0.0512 - val_accuracy: 0.9887\n",
      "Epoch 12/30\n",
      "39000/39000 [==============================] - 32s 824us/step - loss: 0.0099 - accuracy: 0.9967 - val_loss: 0.0724 - val_accuracy: 0.9858\n",
      "Epoch 13/30\n",
      "39000/39000 [==============================] - 32s 822us/step - loss: 0.0104 - accuracy: 0.9966 - val_loss: 0.0646 - val_accuracy: 0.9871\n",
      "Epoch 14/30\n",
      "39000/39000 [==============================] - 32s 821us/step - loss: 0.0105 - accuracy: 0.9969 - val_loss: 0.0732 - val_accuracy: 0.9867\n",
      "[0.03644836283873519, 0.9907000064849854]\n"
     ]
    }
   ],
   "source": [
    "input_image = Input(shape=(1, 28, 28))\n",
    "conv1 = Conv2D(filters=100, kernel_size=(4, 4), activation='relu', data_format='channels_first')(input_image)\n",
    "pool1 = MaxPooling2D(pool_size=(2,2), data_format='channels_first')(conv1)\n",
    "flatten = Flatten()(pool1)\n",
    "dense1 = Dense(2500, activation='relu')(flatten)\n",
    "drop1 = Dropout(0.25)(dense1)\n",
    "norm1 = BatchNormalization()(drop1)\n",
    "dense2 = Dense(2000, activation='relu')(norm1)\n",
    "norm2 = BatchNormalization()(dense2)\n",
    "dense3 = Dense(1500, activation='relu')(norm2)\n",
    "norm3 = BatchNormalization()(dense3)\n",
    "dense4 = Dense(1000, activation='relu')(norm3)\n",
    "norm4 = BatchNormalization()(dense4)\n",
    "dense5 = Dense(500, activation='relu')(norm4)\n",
    "norm5 = BatchNormalization()(dense4)\n",
    "dense6 = Dense(10, activation='softmax')(norm5)\n",
    "model = Model(inputs=input_image, outputs=dense6)\n",
    "\n",
    "opt_ad = Adadelta(learning_rate=1.0, rho=0.95)\n",
    "model.compile(loss='categorical_crossentropy', optimizer=opt_ad, metrics=['accuracy'])\n",
    "es = EarlyStopping(monitor='val_loss', mode='auto', restore_best_weights=True, patience=7)\n",
    "rlr = ReduceLROnPlateau(monitor='val_loss', factor=0.2, patience=7, min_lr=0.001)\n",
    "model.fit(X_train, Y_train, validation_split=0.35, callbacks=[es, rlr], batch_size=32, epochs=30, verbose=1)\n",
    "score = model.evaluate(X_test, Y_test, verbose=0)\n",
    "print(score)"
   ]
  },
  {
   "cell_type": "markdown",
   "metadata": {
    "colab_type": "text",
    "id": "VkDPY41Qv04l"
   },
   "source": [
    "[0.05149793492378667, 0.984000027179718] # RMSprop"
   ]
  },
  {
   "cell_type": "code",
   "execution_count": 8,
   "metadata": {
    "colab": {
     "base_uri": "https://localhost:8080/",
     "height": 391
    },
    "colab_type": "code",
    "id": "hJb0J2c4v04m",
    "outputId": "91e1be2a-ba9d-4419-ba4f-df1de1edf6df",
    "scrolled": true
   },
   "outputs": [
    {
     "name": "stdout",
     "output_type": "stream",
     "text": [
      "Train on 39000 samples, validate on 21000 samples\n",
      "Epoch 1/30\n",
      "39000/39000 [==============================] - 25s 631us/step - loss: 0.5121 - accuracy: 0.8922 - val_loss: 0.1169 - val_accuracy: 0.9700\n",
      "Epoch 2/30\n",
      "39000/39000 [==============================] - 23s 601us/step - loss: 0.1390 - accuracy: 0.9629 - val_loss: 0.1496 - val_accuracy: 0.9650\n",
      "Epoch 3/30\n",
      "39000/39000 [==============================] - 23s 601us/step - loss: 0.1030 - accuracy: 0.9726 - val_loss: 0.0684 - val_accuracy: 0.9822\n",
      "Epoch 4/30\n",
      "39000/39000 [==============================] - 23s 598us/step - loss: 0.0896 - accuracy: 0.9770 - val_loss: 0.0766 - val_accuracy: 0.9814\n",
      "Epoch 5/30\n",
      "39000/39000 [==============================] - 23s 600us/step - loss: 0.0767 - accuracy: 0.9798 - val_loss: 0.1284 - val_accuracy: 0.9753\n",
      "Epoch 6/30\n",
      "39000/39000 [==============================] - 23s 601us/step - loss: 0.0641 - accuracy: 0.9827 - val_loss: 1.7905 - val_accuracy: 0.9792\n",
      "Epoch 7/30\n",
      "39000/39000 [==============================] - 23s 599us/step - loss: 0.0590 - accuracy: 0.9845 - val_loss: 9.1040 - val_accuracy: 0.9834\n",
      "Epoch 8/30\n",
      "39000/39000 [==============================] - 23s 599us/step - loss: 0.0554 - accuracy: 0.9855 - val_loss: 0.3120 - val_accuracy: 0.9820\n",
      "Epoch 9/30\n",
      "39000/39000 [==============================] - 23s 602us/step - loss: 0.0544 - accuracy: 0.9857 - val_loss: 3.1811 - val_accuracy: 0.9791\n",
      "Epoch 10/30\n",
      "39000/39000 [==============================] - 23s 600us/step - loss: 0.0506 - accuracy: 0.9870 - val_loss: 10.4306 - val_accuracy: 0.9730\n",
      "[0.05149793492378667, 0.984000027179718]\n"
     ]
    }
   ],
   "source": [
    "input_image = Input(shape=(1, 28, 28))\n",
    "conv1 = Conv2D(filters=100, kernel_size=(4, 4), activation='relu', data_format='channels_first')(input_image)\n",
    "pool1 = MaxPooling2D(pool_size=(2,2), data_format='channels_first')(conv1)\n",
    "flatten = Flatten()(pool1)\n",
    "dense1 = Dense(2500, activation='relu')(flatten)\n",
    "drop1 = Dropout(0.25)(dense1)\n",
    "norm1 = BatchNormalization()(drop1)\n",
    "dense2 = Dense(2000, activation='relu')(norm1)\n",
    "norm2 = BatchNormalization()(dense2)\n",
    "dense3 = Dense(1500, activation='relu')(norm2)\n",
    "norm3 = BatchNormalization()(dense3)\n",
    "dense4 = Dense(1000, activation='relu')(norm3)\n",
    "norm4 = BatchNormalization()(dense4)\n",
    "dense5 = Dense(500, activation='relu')(norm4)\n",
    "norm5 = BatchNormalization()(dense4)\n",
    "dense6 = Dense(10, activation='softmax')(norm5)\n",
    "model = Model(inputs=input_image, outputs=dense6)\n",
    "\n",
    "opt_rms = RMSprop(learning_rate=0.01, rho=0.9)\n",
    "model.compile(loss='categorical_crossentropy', optimizer=opt_rms, metrics=['accuracy'])\n",
    "es = EarlyStopping(monitor='val_loss', mode='auto', restore_best_weights=True, patience=7)\n",
    "rlr = ReduceLROnPlateau(monitor='val_loss', factor=0.2, patience=7, min_lr=0.001)\n",
    "model.fit(X_train, Y_train, validation_split=0.35, callbacks=[es, rlr], batch_size=32, epochs=30, verbose=1)\n",
    "score = model.evaluate(X_test, Y_test, verbose=0)\n",
    "print(score)"
   ]
  },
  {
   "cell_type": "markdown",
   "metadata": {
    "colab_type": "text",
    "id": "KL4bTxzXv04n"
   },
   "source": [
    "[0.039240962877776474, 0.989799976348877] # Adam"
   ]
  },
  {
   "cell_type": "code",
   "execution_count": 7,
   "metadata": {
    "colab": {
     "base_uri": "https://localhost:8080/",
     "height": 629
    },
    "colab_type": "code",
    "id": "apYupynIv04o",
    "outputId": "9739fa0b-fea7-4dcc-fe60-60ef44f3b221",
    "scrolled": true
   },
   "outputs": [
    {
     "name": "stdout",
     "output_type": "stream",
     "text": [
      "Train on 39000 samples, validate on 21000 samples\n",
      "Epoch 1/30\n",
      "39000/39000 [==============================] - 28s 712us/step - loss: 0.2582 - accuracy: 0.9287 - val_loss: 0.0981 - val_accuracy: 0.9725\n",
      "Epoch 2/30\n",
      "39000/39000 [==============================] - 27s 680us/step - loss: 0.1145 - accuracy: 0.9676 - val_loss: 0.0830 - val_accuracy: 0.9764\n",
      "Epoch 3/30\n",
      "39000/39000 [==============================] - 26s 679us/step - loss: 0.0868 - accuracy: 0.9757 - val_loss: 0.0603 - val_accuracy: 0.9846\n",
      "Epoch 4/30\n",
      "39000/39000 [==============================] - 27s 682us/step - loss: 0.0714 - accuracy: 0.9796 - val_loss: 0.0698 - val_accuracy: 0.9814\n",
      "Epoch 5/30\n",
      "39000/39000 [==============================] - 27s 682us/step - loss: 0.0579 - accuracy: 0.9832 - val_loss: 0.0642 - val_accuracy: 0.9831\n",
      "Epoch 6/30\n",
      "39000/39000 [==============================] - 27s 683us/step - loss: 0.0476 - accuracy: 0.9864 - val_loss: 0.0832 - val_accuracy: 0.9798\n",
      "Epoch 7/30\n",
      "39000/39000 [==============================] - 27s 685us/step - loss: 0.0424 - accuracy: 0.9870 - val_loss: 0.0669 - val_accuracy: 0.9836\n",
      "Epoch 8/30\n",
      "39000/39000 [==============================] - 27s 683us/step - loss: 0.0329 - accuracy: 0.9902 - val_loss: 0.0573 - val_accuracy: 0.9869\n",
      "Epoch 9/30\n",
      "39000/39000 [==============================] - 27s 681us/step - loss: 0.0290 - accuracy: 0.9916 - val_loss: 0.0479 - val_accuracy: 0.9871\n",
      "Epoch 10/30\n",
      "39000/39000 [==============================] - 27s 681us/step - loss: 0.0210 - accuracy: 0.9943 - val_loss: 0.0468 - val_accuracy: 0.9875\n",
      "Epoch 11/30\n",
      "39000/39000 [==============================] - 27s 681us/step - loss: 0.0248 - accuracy: 0.9928 - val_loss: 0.0546 - val_accuracy: 0.9864\n",
      "Epoch 12/30\n",
      "39000/39000 [==============================] - 27s 685us/step - loss: 0.0153 - accuracy: 0.9953 - val_loss: 0.0532 - val_accuracy: 0.9870\n",
      "Epoch 13/30\n",
      "39000/39000 [==============================] - 27s 683us/step - loss: 0.0135 - accuracy: 0.9960 - val_loss: 0.0608 - val_accuracy: 0.9863\n",
      "Epoch 14/30\n",
      "39000/39000 [==============================] - 27s 684us/step - loss: 0.0153 - accuracy: 0.9950 - val_loss: 0.0818 - val_accuracy: 0.9813\n",
      "Epoch 15/30\n",
      "39000/39000 [==============================] - 27s 687us/step - loss: 0.0121 - accuracy: 0.9961 - val_loss: 0.0618 - val_accuracy: 0.9859\n",
      "Epoch 16/30\n",
      "39000/39000 [==============================] - 27s 682us/step - loss: 0.0101 - accuracy: 0.9970 - val_loss: 0.0591 - val_accuracy: 0.9869\n",
      "Epoch 17/30\n",
      "39000/39000 [==============================] - 27s 682us/step - loss: 0.0104 - accuracy: 0.9968 - val_loss: 0.0565 - val_accuracy: 0.9871\n",
      "[0.039240962877776474, 0.989799976348877]\n"
     ]
    }
   ],
   "source": [
    "input_image = Input(shape=(1, 28, 28))\n",
    "conv1 = Conv2D(filters=100, kernel_size=(4, 4), activation='relu', data_format='channels_first')(input_image)\n",
    "pool1 = MaxPooling2D(pool_size=(2,2), data_format='channels_first')(conv1)\n",
    "flatten = Flatten()(pool1)\n",
    "dense1 = Dense(2500, activation='relu')(flatten)\n",
    "drop1 = Dropout(0.25)(dense1)\n",
    "norm1 = BatchNormalization()(drop1)\n",
    "dense2 = Dense(2000, activation='relu')(norm1)\n",
    "norm2 = BatchNormalization()(dense2)\n",
    "dense3 = Dense(1500, activation='relu')(norm2)\n",
    "norm3 = BatchNormalization()(dense3)\n",
    "dense4 = Dense(1000, activation='relu')(norm3)\n",
    "norm4 = BatchNormalization()(dense4)\n",
    "dense5 = Dense(500, activation='relu')(norm4)\n",
    "norm5 = BatchNormalization()(dense4)\n",
    "dense6 = Dense(10, activation='softmax')(norm5)\n",
    "model = Model(inputs=input_image, outputs=dense6)\n",
    "\n",
    "opt_a = Adam(learning_rate=0.001, beta_1=0.9, beta_2=0.999, amsgrad=False)\n",
    "model.compile(loss='categorical_crossentropy', optimizer=opt_a, metrics=['accuracy'])\n",
    "es = EarlyStopping(monitor='val_loss', mode='auto', restore_best_weights=True, patience=7)\n",
    "rlr = ReduceLROnPlateau(monitor='val_loss', factor=0.2, patience=7, min_lr=0.001)\n",
    "model.fit(X_train, Y_train, validation_split=0.35, callbacks=[es, rlr], batch_size=32, epochs=30, verbose=1)\n",
    "score = model.evaluate(X_test, Y_test, verbose=0)\n",
    "print(score)"
   ]
  },
  {
   "cell_type": "code",
   "execution_count": 0,
   "metadata": {
    "colab": {},
    "colab_type": "code",
    "id": "SPdG5xMDv04r"
   },
   "outputs": [],
   "source": []
  }
 ],
 "metadata": {
  "accelerator": "GPU",
  "colab": {
   "collapsed_sections": [],
   "name": "programming01.ipynb",
   "provenance": []
  },
  "kernelspec": {
   "display_name": "Python 3",
   "language": "python",
   "name": "python3"
  },
  "language_info": {
   "codemirror_mode": {
    "name": "ipython",
    "version": 3
   },
   "file_extension": ".py",
   "mimetype": "text/x-python",
   "name": "python",
   "nbconvert_exporter": "python",
   "pygments_lexer": "ipython3",
   "version": "3.6.4"
  }
 },
 "nbformat": 4,
 "nbformat_minor": 1
}
